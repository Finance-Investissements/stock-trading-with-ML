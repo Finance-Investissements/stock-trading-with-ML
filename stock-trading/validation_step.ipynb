{
 "cells": [
  {
   "cell_type": "code",
   "execution_count": null,
   "metadata": {},
   "outputs": [],
   "source": [
    "! pip install scikit-learn==0.23.2  # make sure sklearn of needed version is here"
   ]
  },
  {
   "cell_type": "code",
   "execution_count": null,
   "metadata": {},
   "outputs": [],
   "source": [
    "import boto3\n",
    "import numpy as np\n",
    "import sagemaker\n",
    "import pandas as pd\n",
    "from sklearn.preprocessing import StandardScaler, LabelEncoder\n",
    "from sklearn.model_selection import train_test_split\n",
    "from sklearn.metrics import confusion_matrix, classification_report, accuracy_score, f1_score, log_loss\n",
    "from sklearn.metrics import balanced_accuracy_score, precision_score, recall_score, roc_auc_score, cohen_kappa_score\n",
    "import os\n",
    "import joblib\n",
    "\n",
    "import config\n",
    "\n",
    "# get connection to s3 bucket\n",
    "sm_boto3 = boto3.client('sagemaker')\n",
    "sess = sagemaker.Session()\n",
    "region = sess.boto_session.region_name\n"
   ]
  },
  {
   "cell_type": "code",
   "execution_count": null,
   "metadata": {},
   "outputs": [],
   "source": [
    "### Read Data\n",
    "fname = 'model/model.joblib' # change for new files\n",
    "local_name = 'model.joblib'  # get the name to the local file\n",
    "\n",
    "# Download files from s3\n",
    "s3 = boto3.client('s3')\n",
    "s3.download_file(config.bucket_name, fname, local_name)\n",
    "s3.download_file(config.bucket_name, 'pickles/scaler.gz' , 'scaler.gz')"
   ]
  },
  {
   "cell_type": "code",
   "execution_count": null,
   "metadata": {},
   "outputs": [],
   "source": [
    "# load the files into memory\n",
    "mdl = joblib.load('model.joblib')\n",
    "scaler = joblib.load('scaler.gz')"
   ]
  },
  {
   "cell_type": "code",
   "execution_count": null,
   "metadata": {},
   "outputs": [],
   "source": [
    "s3.download_file(config.bucket_name, 'data/test/test.h5', 'test.h5')  # dowload test data from s3\n",
    "s3.download_file(config.bucket_name, 'data/test/test.h5', 'val.h5')  # dowload val data from s3\n",
    "\n",
    "# load test data\n",
    "test = pd.read_hdf('test.h5')\n",
    "X_test = test.drop(['index', 'short_result'], axis=1, errors='ignore')  # remove predictable column\n",
    "y_test = test['short_result']#.ravel()  # store classes separately\n",
    "\n",
    "# load test data\n",
    "val = pd.read_hdf('val.h5')\n",
    "X_val = val.drop(['index', 'short_result'], axis=1, errors='ignore')  # remove predictable column\n",
    "y_val = val['short_result']#.ravel()  # store classes separately\n",
    "\n",
    "os.remove('test.h5')  # remove local file\n",
    "os.remove('val.h5')  # remove local file"
   ]
  },
  {
   "cell_type": "code",
   "execution_count": null,
   "metadata": {},
   "outputs": [],
   "source": [
    "print('Best params: %s' % mdl.best_params_)\n",
    "\n",
    "## Getting results overview\n",
    "# means strong sell=0, sell=1, hold=2. buy=3, strong buy=4\n",
    "def get_eval(y_true, y_pred):\n",
    "\n",
    "    print()\n",
    "    print(\"Classfification Report:\")\n",
    "    print()\n",
    "    print(classification_report(y_true, y_pred))\n",
    "    print()\n",
    "    print(\"Confusion Matrix:\")\n",
    "    print()\n",
    "    print(confusion_matrix(y_true, y_pred))\n",
    "    print()\n",
    "    print(\"Accuracy: %0.3f\" % accuracy_score(y_true, y_pred))\n",
    "    print(\"Balanced Accuracy: %0.3f\" % balanced_accuracy_score(y_true, y_pred))\n",
    "    print(\"Precision: %0.3f\" % precision_score(y_true, y_pred, average='weighted'))\n",
    "    print(\"Recall: %0.3f\" % recall_score(y_true, y_pred, average='weighted'))\n",
    "    print(\"F1 Score: %0.3f\" % f1_score(y_true, y_pred, average='weighted'))\n",
    "    print(\"Kappa: %0.3f\" % cohen_kappa_score(y_true, y_pred))\n",
    "    #print(\"ROC AUC: %0.3f\" % roc_auc_score(y_true, y_pred, average='weighted', multi_class='ovo'))\n",
    "\n",
    "get_eval(y_true, y_pred)\n",
    "\n"
   ]
  },
  {
   "cell_type": "code",
   "execution_count": null,
   "metadata": {},
   "outputs": [],
   "source": [
    "\n",
    "# Combine strong decisions and normal decisions together\n",
    "a_y_pred = y_pred\n",
    "a_y_pred = np.where(a_y_pred <= 1, 1, a_y_pred)\n",
    "a_y_pred = np.where(a_y_pred >= 3, 3, a_y_pred)\n",
    "\n",
    "a_y_true = y_true.values\n",
    "a_y_true = np.where(a_y_true <= 1, 1, a_y_true)\n",
    "a_y_true = np.where(a_y_true >= 3, 3, a_y_true)\n",
    "\n",
    "get_eval(a_y_true, a_y_pred)"
   ]
  },
  {
   "cell_type": "code",
   "execution_count": null,
   "metadata": {},
   "outputs": [],
   "source": [
    "## Does not work for multiclass\n",
    "#print(\"ROC AUC: %0.3f\" % roc_auc_score(y_true, y_pred, average='weighted', multi_class='ovo'))"
   ]
  },
  {
   "cell_type": "code",
   "execution_count": null,
   "metadata": {},
   "outputs": [],
   "source": [
    "# create probabilities\n",
    "y_prob = mdl.predict_proba(X_test)  \n",
    "y_prob = np.array(y_prob)"
   ]
  },
  {
   "cell_type": "code",
   "execution_count": null,
   "metadata": {},
   "outputs": [],
   "source": [
    "# get probabilities in a df\n",
    "d = {'actual':y_true,'pred':y_pred,'strong_sell':y_prob[:,0],'sell':y_prob[:,1], 'hold':y_prob[:,2], 'buy':y_prob[:,3], 'strong_buy':y_prob[:,4]}\n",
    "probabilities = pd.DataFrame.from_dict(d)\n"
   ]
  },
  {
   "cell_type": "code",
   "execution_count": null,
   "metadata": {},
   "outputs": [],
   "source": [
    "probabilities.head()  # print probabilities\n",
    "# means strong sell=0, sell=1, hold=2. buy=3, strong buy=4"
   ]
  },
  {
   "cell_type": "code",
   "execution_count": null,
   "metadata": {},
   "outputs": [],
   "source": [
    "os.remove('scaler.gz')\n",
    "os.remove('model.joblib')"
   ]
  },
  {
   "cell_type": "code",
   "execution_count": null,
   "metadata": {},
   "outputs": [],
   "source": []
  }
 ],
 "metadata": {
  "kernelspec": {
   "display_name": "Python [conda env:main]",
   "language": "python",
   "name": "conda-env-main-py"
  },
  "language_info": {
   "codemirror_mode": {
    "name": "ipython",
    "version": 3
   },
   "file_extension": ".py",
   "mimetype": "text/x-python",
   "name": "python",
   "nbconvert_exporter": "python",
   "pygments_lexer": "ipython3",
   "version": "3.8.5"
  }
 },
 "nbformat": 4,
 "nbformat_minor": 4
}
